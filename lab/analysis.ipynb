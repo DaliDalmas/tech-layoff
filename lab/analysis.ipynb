{
 "cells": [
  {
   "cell_type": "code",
   "execution_count": 9,
   "id": "905e428e-97a7-40eb-93cf-374c43a392d3",
   "metadata": {},
   "outputs": [],
   "source": [
    "import pandas as pd\n",
    "import seaborn as sns"
   ]
  },
  {
   "cell_type": "code",
   "execution_count": 10,
   "id": "50ee00dc-f692-4b40-aed1-60d4df3fc615",
   "metadata": {},
   "outputs": [],
   "source": [
    "data = pd.read_csv('clean_layoffs.csv')"
   ]
  },
  {
   "cell_type": "code",
   "execution_count": 11,
   "id": "8750270f-b23b-4719-b87e-4de710d90f11",
   "metadata": {},
   "outputs": [
    {
     "data": {
      "text/html": [
       "<div>\n",
       "<style scoped>\n",
       "    .dataframe tbody tr th:only-of-type {\n",
       "        vertical-align: middle;\n",
       "    }\n",
       "\n",
       "    .dataframe tbody tr th {\n",
       "        vertical-align: top;\n",
       "    }\n",
       "\n",
       "    .dataframe thead th {\n",
       "        text-align: right;\n",
       "    }\n",
       "</style>\n",
       "<table border=\"1\" class=\"dataframe\">\n",
       "  <thead>\n",
       "    <tr style=\"text-align: right;\">\n",
       "      <th></th>\n",
       "      <th>company</th>\n",
       "      <th>layoffs</th>\n",
       "      <th>report_date</th>\n",
       "      <th>Industry</th>\n",
       "      <th>HQ</th>\n",
       "      <th>company_status</th>\n",
       "    </tr>\n",
       "  </thead>\n",
       "  <tbody>\n",
       "    <tr>\n",
       "      <th>0</th>\n",
       "      <td>Toast</td>\n",
       "      <td>550</td>\n",
       "      <td>2024-02-15</td>\n",
       "      <td>Point-of-sale platform</td>\n",
       "      <td>Boston</td>\n",
       "      <td>Public</td>\n",
       "    </tr>\n",
       "    <tr>\n",
       "      <th>1</th>\n",
       "      <td>Cisco</td>\n",
       "      <td>4250</td>\n",
       "      <td>2024-02-14</td>\n",
       "      <td>Enterprise software, SaaS</td>\n",
       "      <td>San Jose, CA</td>\n",
       "      <td>Public</td>\n",
       "    </tr>\n",
       "    <tr>\n",
       "      <th>2</th>\n",
       "      <td>Upside Foods</td>\n",
       "      <td>16</td>\n",
       "      <td>2024-02-14</td>\n",
       "      <td>Alternative protein</td>\n",
       "      <td>Berkeley, CA</td>\n",
       "      <td>Private</td>\n",
       "    </tr>\n",
       "    <tr>\n",
       "      <th>3</th>\n",
       "      <td>Paramount Global</td>\n",
       "      <td>800</td>\n",
       "      <td>2024-02-13</td>\n",
       "      <td>Logistics</td>\n",
       "      <td>La Mirada, CA</td>\n",
       "      <td>Private</td>\n",
       "    </tr>\n",
       "    <tr>\n",
       "      <th>4</th>\n",
       "      <td>Instacart</td>\n",
       "      <td>250</td>\n",
       "      <td>2024-02-13</td>\n",
       "      <td>Delivery, e-commerce</td>\n",
       "      <td>San Francisco</td>\n",
       "      <td>Public</td>\n",
       "    </tr>\n",
       "  </tbody>\n",
       "</table>\n",
       "</div>"
      ],
      "text/plain": [
       "            company  layoffs report_date                   Industry  \\\n",
       "0             Toast      550  2024-02-15     Point-of-sale platform   \n",
       "1             Cisco     4250  2024-02-14  Enterprise software, SaaS   \n",
       "2      Upside Foods       16  2024-02-14        Alternative protein   \n",
       "3  Paramount Global      800  2024-02-13                  Logistics   \n",
       "4         Instacart      250  2024-02-13       Delivery, e-commerce   \n",
       "\n",
       "              HQ company_status  \n",
       "0         Boston         Public  \n",
       "1   San Jose, CA         Public  \n",
       "2   Berkeley, CA        Private  \n",
       "3  La Mirada, CA        Private  \n",
       "4  San Francisco         Public  "
      ]
     },
     "execution_count": 11,
     "metadata": {},
     "output_type": "execute_result"
    }
   ],
   "source": [
    "data.head()"
   ]
  },
  {
   "cell_type": "code",
   "execution_count": 12,
   "id": "f6aa928a-7fc1-439c-b820-1444cec790f4",
   "metadata": {},
   "outputs": [],
   "source": [
    "data['report_date'] =  pd.to_datetime(data['report_date'], format='%Y-%m-%d')"
   ]
  },
  {
   "cell_type": "code",
   "execution_count": 13,
   "id": "d1fe9b8e-ea58-4a1e-8d91-eeb21fa1c851",
   "metadata": {},
   "outputs": [
    {
     "data": {
      "text/plain": [
       "company                   object\n",
       "layoffs                    int64\n",
       "report_date       datetime64[ns]\n",
       "Industry                  object\n",
       "HQ                        object\n",
       "company_status            object\n",
       "dtype: object"
      ]
     },
     "execution_count": 13,
     "metadata": {},
     "output_type": "execute_result"
    }
   ],
   "source": [
    "data.dtypes"
   ]
  },
  {
   "cell_type": "code",
   "execution_count": null,
   "id": "b1d156a1-c951-427b-aed5-f52287ef9257",
   "metadata": {},
   "outputs": [],
   "source": []
  }
 ],
 "metadata": {
  "kernelspec": {
   "display_name": "Python 3 (ipykernel)",
   "language": "python",
   "name": "python3"
  },
  "language_info": {
   "codemirror_mode": {
    "name": "ipython",
    "version": 3
   },
   "file_extension": ".py",
   "mimetype": "text/x-python",
   "name": "python",
   "nbconvert_exporter": "python",
   "pygments_lexer": "ipython3",
   "version": "3.9.6"
  }
 },
 "nbformat": 4,
 "nbformat_minor": 5
}
